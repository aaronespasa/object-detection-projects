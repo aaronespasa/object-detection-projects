{
 "cells": [
  {
   "cell_type": "code",
   "execution_count": 22,
   "id": "429b311c-a4be-462b-8d7b-54a393185717",
   "metadata": {},
   "outputs": [],
   "source": [
    "import cv2\n",
    "import os"
   ]
  },
  {
   "cell_type": "markdown",
   "id": "5dda2f57-c30b-40e0-8391-b0a659c80880",
   "metadata": {},
   "source": [
    "> Make sure you take the same amount of screenshots for each label.\n",
    "\n",
    "Example: five images for one, another five for two, ..."
   ]
  },
  {
   "cell_type": "code",
   "execution_count": null,
   "id": "1e61ddc7-464d-40b7-9df4-3321c5210963",
   "metadata": {},
   "outputs": [],
   "source": [
    "LABELS = [\"one\", \"two\", \"three\", \"four\", \"five\"]"
   ]
  },
  {
   "cell_type": "code",
   "execution_count": null,
   "id": "a01f8cb6-1b41-46b0-aa7e-8e34e8dfe161",
   "metadata": {},
   "outputs": [],
   "source": [
    "IMAGES_FOLDER, LABELS_FOLDER = \"images\", \"collectedimages\"\n",
    "IMAGES_PATH = os.path.join(IMAGES_FOLDER, LABELS_FOLDER)"
   ]
  },
  {
   "cell_type": "code",
   "execution_count": null,
   "id": "2386a04d-4d78-45ea-a7e2-54e0c2451f5f",
   "metadata": {},
   "outputs": [],
   "source": [
    "# Create the folders /images/collectedimages/\n",
    "if not os.path.exists(IMAGES_PATH):\n",
    "    os.mkdir(IMAGES_FOLDER)\n",
    "    os.mkdir(IMAGES_PATH)"
   ]
  },
  {
   "cell_type": "code",
   "execution_count": null,
   "id": "03a752a7-f76f-4f37-a371-9a278285d50e",
   "metadata": {},
   "outputs": [],
   "source": [
    "# Create a folder for each label: one/ , two/ ,...\n",
    "for label in LABELS:\n",
    "    label_path = os.path.join(IMAGES_PATH, label)\n",
    "    if not os.path.exists(label_path): os.mkdir(label_path)"
   ]
  },
  {
   "cell_type": "code",
   "execution_count": null,
   "id": "a0d36ec7-e836-4d05-83dd-b15c56c90c98",
   "metadata": {},
   "outputs": [],
   "source": [
    "# OPEN THE WEBCAM TO CREATE THE IMAGES FOR THE DATASET\n",
    "\n",
    "# Example of the command: ./build/webcam one two three four five\n",
    "os.system(\"./build/webcam \" + \" \".join(LABELS)) "
   ]
  },
  {
   "cell_type": "code",
   "execution_count": null,
   "id": "9c5161a2-86b7-4eae-a252-0070ee6a5740",
   "metadata": {},
   "outputs": [],
   "source": []
  }
 ],
 "metadata": {
  "kernelspec": {
   "display_name": "Python 3",
   "language": "python",
   "name": "python3"
  },
  "language_info": {
   "codemirror_mode": {
    "name": "ipython",
    "version": 3
   },
   "file_extension": ".py",
   "mimetype": "text/x-python",
   "name": "python",
   "nbconvert_exporter": "python",
   "pygments_lexer": "ipython3",
   "version": "3.9.6"
  }
 },
 "nbformat": 4,
 "nbformat_minor": 5
}
